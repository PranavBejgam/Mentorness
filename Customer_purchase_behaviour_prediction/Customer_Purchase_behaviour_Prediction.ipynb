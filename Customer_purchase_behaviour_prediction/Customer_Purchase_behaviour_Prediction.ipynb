{
  "nbformat": 4,
  "nbformat_minor": 0,
  "metadata": {
    "colab": {
      "provenance": [],
      "gpuType": "T4"
    },
    "kernelspec": {
      "name": "python3",
      "display_name": "Python 3"
    },
    "language_info": {
      "name": "python"
    },
    "accelerator": "GPU"
  },
  "cells": [
    {
      "cell_type": "code",
      "execution_count": 2,
      "metadata": {
        "colab": {
          "base_uri": "https://localhost:8080/",
          "height": 0
        },
        "id": "OIL-V_p7M3UZ",
        "outputId": "0a31fb88-5612-405e-a830-bd67713cc075"
      },
      "outputs": [
        {
          "output_type": "stream",
          "name": "stdout",
          "text": [
            "Fitting 5 folds for each of 108 candidates, totalling 540 fits\n",
            "Random Forest Best Parameters: {'max_depth': None, 'min_samples_leaf': 4, 'min_samples_split': 10, 'n_estimators': 300}\n",
            "Accuracy: 0.95\n",
            "Classification Report:\n",
            "              precision    recall  f1-score   support\n",
            "\n",
            "           0       0.93      0.98      0.96       172\n",
            "           1       0.97      0.91      0.94       128\n",
            "\n",
            "    accuracy                           0.95       300\n",
            "   macro avg       0.95      0.94      0.95       300\n",
            "weighted avg       0.95      0.95      0.95       300\n",
            "\n"
          ]
        }
      ],
      "source": [
        "import pandas as pd\n",
        "from sklearn.model_selection import train_test_split, GridSearchCV\n",
        "from sklearn.preprocessing import StandardScaler\n",
        "from sklearn.ensemble import RandomForestClassifier\n",
        "from sklearn.metrics import classification_report, accuracy_score\n",
        "\n",
        "# Load the dataset\n",
        "file_path = '/content/customer_purchase_data.csv'\n",
        "data = pd.read_csv(file_path)\n",
        "\n",
        "# Separate features and target variable\n",
        "X = data.drop('PurchaseStatus', axis=1)\n",
        "y = data['PurchaseStatus']\n",
        "\n",
        "# One-hot encode categorical variables\n",
        "X = pd.get_dummies(X, columns=['Gender', 'ProductCategory', 'LoyaltyProgram'], drop_first=True)\n",
        "\n",
        "# Split the data into training and testing sets\n",
        "X_train, X_test, y_train, y_test = train_test_split(X, y, test_size=0.2, random_state=42)\n",
        "\n",
        "# Feature scaling\n",
        "scaler = StandardScaler()\n",
        "X_train = scaler.fit_transform(X_train)\n",
        "X_test = scaler.transform(X_test)\n",
        "\n",
        "# Define the RandomForest model\n",
        "rf_model = RandomForestClassifier(random_state=42)\n",
        "\n",
        "# Define parameter grid for GridSearchCV\n",
        "rf_param_grid = {\n",
        "    'n_estimators': [100, 200, 300],\n",
        "    'max_depth': [None, 10, 20, 30],\n",
        "    'min_samples_split': [2, 5, 10],\n",
        "    'min_samples_leaf': [1, 2, 4]\n",
        "}\n",
        "\n",
        "# Set up GridSearchCV\n",
        "rf_grid_search = GridSearchCV(estimator=rf_model, param_grid=rf_param_grid, scoring='accuracy', cv=5, verbose=1)\n",
        "\n",
        "# Fit GridSearchCV\n",
        "rf_grid_search.fit(X_train, y_train)\n",
        "\n",
        "# Get the best parameters and model\n",
        "rf_best_params = rf_grid_search.best_params_\n",
        "rf_best_model = rf_grid_search.best_estimator_\n",
        "\n",
        "# Make predictions with the best model\n",
        "rf_y_pred = rf_best_model.predict(X_test)\n",
        "\n",
        "# Evaluate the model\n",
        "rf_accuracy = accuracy_score(y_test, rf_y_pred)\n",
        "rf_report = classification_report(y_test, rf_y_pred)\n",
        "\n",
        "print(f\"Random Forest Best Parameters: {rf_best_params}\")\n",
        "print(f\"Accuracy: {rf_accuracy:.2f}\")\n",
        "print(\"Classification Report:\")\n",
        "print(rf_report)"
      ]
    },
    {
      "cell_type": "code",
      "source": [
        "import pandas as pd\n",
        "from sklearn.model_selection import train_test_split, GridSearchCV\n",
        "from sklearn.preprocessing import StandardScaler\n",
        "from xgboost import XGBClassifier\n",
        "from sklearn.metrics import classification_report, accuracy_score\n",
        "\n",
        "# Load the dataset\n",
        "file_path = '/content/customer_purchase_data.csv'\n",
        "data = pd.read_csv(file_path)\n",
        "\n",
        "# Separate features and target variable\n",
        "X = data.drop('PurchaseStatus', axis=1)\n",
        "y = data['PurchaseStatus']\n",
        "\n",
        "# One-hot encode categorical variables\n",
        "X = pd.get_dummies(X, columns=['Gender', 'ProductCategory', 'LoyaltyProgram'], drop_first=True)\n",
        "\n",
        "# Split the data into training and testing sets\n",
        "X_train, X_test, y_train, y_test = train_test_split(X, y, test_size=0.2, random_state=42)\n",
        "\n",
        "# Feature scaling\n",
        "scaler = StandardScaler()\n",
        "X_train = scaler.fit_transform(X_train)\n",
        "X_test = scaler.transform(X_test)\n",
        "\n",
        "# Define the XGBoost model\n",
        "model = XGBClassifier(eval_metric='logloss')\n",
        "\n",
        "# Define a more extensive parameter grid\n",
        "param_grid = {\n",
        "    'n_estimators': [100, 200, 300, 400],\n",
        "    'max_depth': [3, 5, 7, 9],\n",
        "    'learning_rate': [0.01, 0.05, 0.1, 0.2],\n",
        "    'subsample': [0.8, 0.9, 1.0],\n",
        "    'colsample_bytree': [0.8, 0.9, 1.0]\n",
        "}\n",
        "\n",
        "# Set up GridSearchCV with k-fold cross-validation\n",
        "grid_search = GridSearchCV(estimator=model, param_grid=param_grid, scoring='accuracy', cv=10, verbose=1)\n",
        "\n",
        "# Fit GridSearchCV\n",
        "grid_search.fit(X_train, y_train)\n",
        "\n",
        "# Get the best parameters and model\n",
        "best_params = grid_search.best_params_\n",
        "best_model = grid_search.best_estimator_\n",
        "\n",
        "# Make predictions with the best model\n",
        "y_pred = best_model.predict(X_test)\n",
        "\n",
        "# Evaluate the model\n",
        "accuracy = accuracy_score(y_test, y_pred)\n",
        "report = classification_report(y_test, y_pred)\n",
        "\n",
        "print(f\"Best Parameters: {best_params}\")\n",
        "print(f\"Accuracy: {accuracy:.2f}\")\n",
        "print(\"Classification Report:\")\n",
        "print(report)"
      ],
      "metadata": {
        "colab": {
          "base_uri": "https://localhost:8080/",
          "height": 0
        },
        "id": "HM1aTyUKQxFY",
        "outputId": "3fcb524d-2780-4d7b-ed8f-175a4a8ac903"
      },
      "execution_count": 3,
      "outputs": [
        {
          "output_type": "stream",
          "name": "stdout",
          "text": [
            "Fitting 10 folds for each of 576 candidates, totalling 5760 fits\n",
            "Best Parameters: {'colsample_bytree': 0.8, 'learning_rate': 0.05, 'max_depth': 3, 'n_estimators': 100, 'subsample': 0.8}\n",
            "Accuracy: 0.95\n",
            "Classification Report:\n",
            "              precision    recall  f1-score   support\n",
            "\n",
            "           0       0.94      0.98      0.96       172\n",
            "           1       0.97      0.91      0.94       128\n",
            "\n",
            "    accuracy                           0.95       300\n",
            "   macro avg       0.96      0.95      0.95       300\n",
            "weighted avg       0.95      0.95      0.95       300\n",
            "\n"
          ]
        }
      ]
    },
    {
      "cell_type": "code",
      "source": [],
      "metadata": {
        "id": "UHgSIgOEQ5UR"
      },
      "execution_count": null,
      "outputs": []
    }
  ]
}